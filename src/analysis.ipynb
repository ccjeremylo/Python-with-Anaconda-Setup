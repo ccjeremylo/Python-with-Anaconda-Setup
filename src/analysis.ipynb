{
 "cells": [
  {
   "cell_type": "markdown",
   "metadata": {
    "is_executing": true
   },
   "source": [
    "# Intro to Python!"
   ]
  },
  {
   "cell_type": "code",
   "execution_count": 1,
   "metadata": {},
   "outputs": [],
   "source": [
    "# import python packages that you need\n",
    "\n",
    "import utils\n",
    "import os\n",
    "import numpy as np"
   ]
  },
  {
   "cell_type": "code",
   "execution_count": 2,
   "metadata": {
    "collapsed": false,
    "jupyter": {
     "outputs_hidden": false
    }
   },
   "outputs": [
    {
     "name": "stdout",
     "output_type": "stream",
     "text": [
      "hello world!\n"
     ]
    }
   ],
   "source": [
    "# python 101 - let's print hello world\n",
    "\n",
    "print(\"hello world!\")"
   ]
  },
  {
   "cell_type": "code",
   "execution_count": 3,
   "metadata": {},
   "outputs": [
    {
     "name": "stdout",
     "output_type": "stream",
     "text": [
      "/Users/jeremylo/Documents/JLo_Documents/dev_library.nosync/Python-with-Anaconda-Setup/src\n"
     ]
    }
   ],
   "source": [
    "# check current working directory\n",
    "\n",
    "cwd = os.getcwd()\n",
    "print(cwd)"
   ]
  },
  {
   "cell_type": "code",
   "execution_count": 4,
   "metadata": {
    "collapsed": false,
    "jupyter": {
     "outputs_hidden": false
    }
   },
   "outputs": [
    {
     "name": "stdout",
     "output_type": "stream",
     "text": [
      "-2.0\n"
     ]
    }
   ],
   "source": [
    "# calling functions from other modules\n",
    "\n",
    "c = utils.adding_numbers(1.2, -3.2)\n",
    "print(c)"
   ]
  },
  {
   "cell_type": "code",
   "execution_count": 5,
   "metadata": {
    "collapsed": false,
    "is_executing": true,
    "jupyter": {
     "outputs_hidden": false
    }
   },
   "outputs": [
    {
     "name": "stdout",
     "output_type": "stream",
     "text": [
      "Hi, My name is John. My full name is John Smith. I am 35 years old.\n"
     ]
    }
   ],
   "source": [
    "# calling functions from other modules\n",
    "\n",
    "print(utils.combine_strings(\"John\", \"Smith\", 35))"
   ]
  },
  {
   "cell_type": "code",
   "execution_count": 6,
   "metadata": {
    "collapsed": false,
    "jupyter": {
     "outputs_hidden": false
    }
   },
   "outputs": [
    {
     "name": "stdout",
     "output_type": "stream",
     "text": [
      "0: hello\n",
      "1: hello\n",
      "2: hello\n",
      "3: hello\n",
      "4: hello\n"
     ]
    }
   ],
   "source": [
    "# Running a for loop!\n",
    "\n",
    "utils.print_n_times(\"hello\", 5)"
   ]
  },
  {
   "cell_type": "markdown",
   "metadata": {},
   "source": [
    "### Things to learn later (assuming goal is to do data analysis):\n",
    "\n",
    "- python fundamental data types:\n",
    "    - Containers: list, tuple, set, dictionary\n",
    "    - Numbers: integers (int), float\n",
    "    - Booleans: bool\n",
    "    - Words/sentences: different types of strings (str)\n",
    "- loops:\n",
    "    - for loop\n",
    "    - while loop\n",
    "- functions\n",
    "- control flows:\n",
    "    - if, elif, else\n",
    "\n",
    "After the basics, we can start exploring useful python packages:\n",
    "- pandas (manipulating tables, spreadsheets, etc.)\n",
    "- matplotlib (plotting graphs)\n",
    "- etc...many more cool packages..."
   ]
  },
  {
   "cell_type": "code",
   "execution_count": null,
   "metadata": {},
   "outputs": [],
   "source": []
  }
 ],
 "metadata": {
  "kernelspec": {
   "display_name": "myenv",
   "language": "python",
   "name": "myenv"
  },
  "language_info": {
   "codemirror_mode": {
    "name": "ipython",
    "version": 3
   },
   "file_extension": ".py",
   "mimetype": "text/x-python",
   "name": "python",
   "nbconvert_exporter": "python",
   "pygments_lexer": "ipython3",
   "version": "3.12.3"
  }
 },
 "nbformat": 4,
 "nbformat_minor": 4
}
